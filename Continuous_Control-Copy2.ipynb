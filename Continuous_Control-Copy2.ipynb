{
 "cells": [
  {
   "cell_type": "markdown",
   "metadata": {},
   "source": [
    "# Continuous Control\n",
    "\n",
    "---\n",
    "\n",
    "You are welcome to use this coding environment to train your agent for the project.  Follow the instructions below to get started!\n",
    "\n",
    "### 1. Start the Environment\n",
    "\n",
    "Run the next code cell to install a few packages.  This line will take a few minutes to run!"
   ]
  },
  {
   "cell_type": "code",
   "execution_count": 1,
   "metadata": {},
   "outputs": [],
   "source": [
    "#!pip -q install ./python"
   ]
  },
  {
   "cell_type": "markdown",
   "metadata": {},
   "source": [
    "The environments corresponding to both versions of the environment are already saved in the Workspace and can be accessed at the file paths provided below.  \n",
    "\n",
    "Please select one of the two options below for loading the environment."
   ]
  },
  {
   "cell_type": "code",
   "execution_count": 2,
   "metadata": {},
   "outputs": [
    {
     "name": "stderr",
     "output_type": "stream",
     "text": [
      "INFO:unityagents:\n",
      "'Academy' started successfully!\n",
      "Unity Academy name: Academy\n",
      "        Number of Brains: 1\n",
      "        Number of External Brains : 1\n",
      "        Lesson number : 0\n",
      "        Reset Parameters :\n",
      "\t\tgoal_size -> 5.0\n",
      "\t\tgoal_speed -> 1.0\n",
      "Unity brain name: ReacherBrain\n",
      "        Number of Visual Observations (per agent): 0\n",
      "        Vector Observation space type: continuous\n",
      "        Vector Observation space size (per agent): 33\n",
      "        Number of stacked Vector Observation: 1\n",
      "        Vector Action space type: continuous\n",
      "        Vector Action space size (per agent): 4\n",
      "        Vector Action descriptions: , , , \n"
     ]
    }
   ],
   "source": [
    "from unityagents import UnityEnvironment\n",
    "import numpy as np\n",
    "\n",
    "# select this option to load version 1 (with a single agent) of the environment\n",
    "#env = UnityEnvironment(file_name='/data/Reacher_One_Linux_NoVis/Reacher_One_Linux_NoVis.x86_64')\n",
    "\n",
    "env = UnityEnvironment(file_name='data/Reacher_Linux/Reacher.x86_64')\n",
    "\n",
    "# select this option to load version 2 (with 20 agents) of the environment\n",
    "# env = UnityEnvironment(file_name='/data/Reacher_Linux_NoVis/Reacher.x86_64')"
   ]
  },
  {
   "cell_type": "markdown",
   "metadata": {},
   "source": [
    "Environments contain **_brains_** which are responsible for deciding the actions of their associated agents. Here we check for the first brain available, and set it as the default brain we will be controlling from Python."
   ]
  },
  {
   "cell_type": "code",
   "execution_count": 3,
   "metadata": {},
   "outputs": [],
   "source": [
    "# get the default brain\n",
    "brain_name = env.brain_names[0]\n",
    "brain = env.brains[brain_name]"
   ]
  },
  {
   "cell_type": "markdown",
   "metadata": {},
   "source": [
    "### 2. Examine the State and Action Spaces\n",
    "\n",
    "Run the code cell below to print some information about the environment."
   ]
  },
  {
   "cell_type": "code",
   "execution_count": 4,
   "metadata": {},
   "outputs": [
    {
     "name": "stdout",
     "output_type": "stream",
     "text": [
      "Number of agents: 1\n",
      "Size of each action: 4\n",
      "There are 1 agents. Each observes a state with length: 33\n",
      "The state for the first agent looks like: [ 0.00000000e+00 -4.00000000e+00  0.00000000e+00  1.00000000e+00\n",
      " -0.00000000e+00 -0.00000000e+00 -4.37113883e-08  0.00000000e+00\n",
      "  0.00000000e+00  0.00000000e+00  0.00000000e+00  0.00000000e+00\n",
      "  0.00000000e+00  0.00000000e+00 -1.00000000e+01  0.00000000e+00\n",
      "  1.00000000e+00 -0.00000000e+00 -0.00000000e+00 -4.37113883e-08\n",
      "  0.00000000e+00  0.00000000e+00  0.00000000e+00  0.00000000e+00\n",
      "  0.00000000e+00  0.00000000e+00  5.75471878e+00 -1.00000000e+00\n",
      "  5.55726671e+00  0.00000000e+00  1.00000000e+00  0.00000000e+00\n",
      " -1.68164849e-01]\n"
     ]
    }
   ],
   "source": [
    "# reset the environment\n",
    "env_info = env.reset(train_mode=True)[brain_name]\n",
    "\n",
    "# number of agents\n",
    "num_agents = len(env_info.agents)\n",
    "print('Number of agents:', num_agents)\n",
    "\n",
    "# size of each action\n",
    "action_size = brain.vector_action_space_size\n",
    "print('Size of each action:', action_size)\n",
    "\n",
    "# examine the state space \n",
    "states = env_info.vector_observations\n",
    "state_size = states.shape[1]\n",
    "print('There are {} agents. Each observes a state with length: {}'.format(states.shape[0], state_size))\n",
    "print('The state for the first agent looks like:', states[0])"
   ]
  },
  {
   "cell_type": "markdown",
   "metadata": {},
   "source": [
    "### 3. Take Random Actions in the Environment\n",
    "\n",
    "In the next code cell, you will learn how to use the Python API to control the agent and receive feedback from the environment.\n",
    "\n",
    "Note that **in this coding environment, you will not be able to watch the agents while they are training**, and you should set `train_mode=True` to restart the environment."
   ]
  },
  {
   "cell_type": "raw",
   "metadata": {},
   "source": [
    "env_info = env.reset(train_mode=True)[brain_name]      # reset the environment    \n",
    "states = env_info.vector_observations                  # get the current state (for each agent)\n",
    "scores = np.zeros(num_agents)                          # initialize the score (for each agent)\n",
    "while True:\n",
    "    actions = np.random.randn(num_agents, action_size) # select an action (for each agent)\n",
    "    actions = np.clip(actions, -1, 1)                  # all actions between -1 and 1\n",
    "    env_info = env.step(actions)[brain_name]           # send all actions to tne environment\n",
    "    next_states = env_info.vector_observations         # get next state (for each agent)\n",
    "    rewards = env_info.rewards                         # get reward (for each agent)\n",
    "    dones = env_info.local_done                        # see if episode finished\n",
    "    scores += env_info.rewards                         # update the score (for each agent)\n",
    "    states = next_states                               # roll over states to next time step\n",
    "    if np.any(dones):                                  # exit loop if episode finished\n",
    "        break\n",
    "print('Total score (averaged over agents) this episode: {}'.format(np.mean(scores)))"
   ]
  },
  {
   "cell_type": "markdown",
   "metadata": {},
   "source": [
    "When finished, you can close the environment."
   ]
  },
  {
   "cell_type": "code",
   "execution_count": 5,
   "metadata": {},
   "outputs": [],
   "source": [
    "#env.close()"
   ]
  },
  {
   "cell_type": "markdown",
   "metadata": {},
   "source": [
    "### 4. It's Your Turn!\n",
    "\n",
    "Now it's your turn to train your own agent to solve the environment!  A few **important notes**:\n",
    "- When training the environment, set `train_mode=True`, so that the line for resetting the environment looks like the following:\n",
    "```python\n",
    "env_info = env.reset(train_mode=True)[brain_name]\n",
    "```\n",
    "- To structure your work, you're welcome to work directly in this Jupyter notebook, or you might like to start over with a new file!  You can see the list of files in the workspace by clicking on **_Jupyter_** in the top left corner of the notebook.\n",
    "- In this coding environment, you will not be able to watch the agents while they are training.  However, **_after training the agents_**, you can download the saved model weights to watch the agents on your own machine! "
   ]
  },
  {
   "cell_type": "code",
   "execution_count": 6,
   "metadata": {},
   "outputs": [],
   "source": [
    "from collections import deque\n",
    "import matplotlib.pyplot as plt\n",
    "%matplotlib inline\n",
    "import torch\n",
    "from ddpg_agent_Copy2 import Agent"
   ]
  },
  {
   "cell_type": "code",
   "execution_count": 7,
   "metadata": {},
   "outputs": [
    {
     "name": "stdout",
     "output_type": "stream",
     "text": [
      "Episode 100\tAverage Score: 1.77\n",
      "Episode 200\tAverage Score: 4.20\n",
      "Episode 300\tAverage Score: 11.01\n",
      "Episode 400\tAverage Score: 13.10\n",
      "Episode 500\tAverage Score: 18.62\n",
      "Episode 600\tAverage Score: 22.99\n",
      "Episode 700\tAverage Score: 26.74\n",
      "Episode 800\tAverage Score: 30.05\n",
      "Episode 900\tAverage Score: 34.17\n",
      "Episode 1000\tAverage Score: 35.62\n",
      "Episode 1100\tAverage Score: 37.01\n",
      "Episode 1200\tAverage Score: 36.41\n",
      "Episode 1300\tAverage Score: 35.72\n",
      "Episode 1400\tAverage Score: 35.61\n",
      "Episode 1500\tAverage Score: 36.66\n",
      "Episode 1600\tAverage Score: 33.33\n",
      "Episode 1700\tAverage Score: 34.43\n",
      "Episode 1800\tAverage Score: 31.58\n",
      "Episode 1900\tAverage Score: 33.56\n",
      "Episode 2000\tAverage Score: 35.27\n"
     ]
    },
    {
     "data": {
      "image/png": "[encoded data removed]",
      "text/plain": [
       "<Figure size 432x288 with 1 Axes>"
      ]
     },
     "metadata": {
      "needs_background": "light"
     },
     "output_type": "display_data"
    }
   ],
   "source": [
    "def ddpg(n_episodes=2000, max_t=100000, print_every=100):\n",
    "    scores_deque = deque(maxlen=print_every)\n",
    "    scores = []\n",
    "    for i_episode in range(1, n_episodes+1):\n",
    "        env_info = env.reset(train_mode=True)[brain_name]\n",
    "        #state = env.reset()\n",
    "        agent.reset()\n",
    "\n",
    "        state = env_info.vector_observations[0]\n",
    "        score = 0 #np.zeros(num_agents) #0\n",
    "\n",
    "        \n",
    "        for t in range(max_t):\n",
    "            action = agent.act(state)\n",
    "            #next_state, reward, done, _ = env.step(action)\n",
    "            \n",
    "            env_info = env.step(action)[brain_name]        # send the action to the environment\n",
    "            next_state = env_info.vector_observations[0]#[0]   # get the next state\n",
    "            reward = env_info.rewards[0]#[0]                   # get the reward\n",
    "            done = env_info.local_done[0]#[0]                  # see if episode has finished\n",
    "            \n",
    "            \n",
    "            agent.step(state, action, reward, next_state, done, t)\n",
    "            # save experience to replay buffer, perform learning step at defined interval\n",
    "            #for s, a, r, ns, d in zip(state, action, reward, next_state, done):\n",
    "            #    agent.step(s, a, r, ns, d, t)\n",
    "            state = next_state\n",
    "            score += reward\n",
    "            if done:\n",
    "                break \n",
    "        scores_deque.append(score)\n",
    "        scores.append(score)\n",
    "        mean_score = np.mean(scores_deque)\n",
    "        print('\\rEpisode {}\\tAverage Score: {:.2f}'.format(i_episode, mean_score), end=\"\")\n",
    "        if mean_score >= 30:\n",
    "            torch.save(agent.actor_local.state_dict(), 'checkpoint_actor.pth')\n",
    "            torch.save(agent.critic_local.state_dict(), 'checkpoint_critic.pth')\n",
    "        if i_episode % print_every == 0:\n",
    "            print('\\rEpisode {}\\tAverage Score: {:.2f}'.format(i_episode, np.mean(scores_deque)))\n",
    "            \n",
    "    return scores\n",
    "\n",
    "\n",
    "#agent = Agent(state_size=3, action_size=1, random_seed=2)\n",
    "agent = Agent(state_size=state_size, action_size=action_size, random_seed=1)\n",
    "\n",
    "\n",
    "\n",
    "scores = ddpg()\n",
    "\n",
    "fig = plt.figure()\n",
    "ax = fig.add_subplot(111)\n",
    "plt.plot(np.arange(1, len(scores)+1), scores)\n",
    "plt.ylabel('Score')\n",
    "plt.xlabel('Episode #')\n",
    "plt.show()"
   ]
  },
  {
   "cell_type": "code",
   "execution_count": null,
   "metadata": {},
   "outputs": [],
   "source": [
    "this solution took way much longer \n",
    "max_t = 100000\n",
    "network layers 256 256 not 400 and 300\n",
    "\n",
    "shorter max_t did not (could not ) solve the env"
   ]
  },
  {
   "cell_type": "code",
   "execution_count": 8,
   "metadata": {},
   "outputs": [],
   "source": [
    "#env_info."
   ]
  },
  {
   "cell_type": "raw",
   "metadata": {},
   "source": [
    "____\n",
    "# Notes\n",
    "\n",
    "1. vanilla ddpg-pendulum\n",
    "    score ~1 after 500 epochs\n",
    "    (OU_noise was included sigma=0.2 default)\n",
    "\n",
    "2. added batchnorm1d to the actor and critic nn-s improoved the score by double\n",
    "    score ~3 after 500 epochs\n",
    "    \n",
    "3. added decaying epsilon greedy to the learning class \n",
    "    EPSILON_DECAY = 1e-6\n",
    "    score   after 500 epochs\n",
    "    \n",
    "Episode 100\tAverage Score: 3.45\n",
    "Episode 200\tAverage Score: 7.90\n",
    "Episode 300\tAverage Score: 9.732\n",
    "Episode 400\tAverage Score: 6.691\n",
    "Episode 500\tAverage Score: 4.87\n",
    "\n",
    "4. EPSILON_DECAY = 1e-3, OU-sigma=0.1\n",
    "\n",
    "Episode 86\tAverage Score: 0.25\n",
    "\n",
    "\n",
    "\n",
    "5. EPSILON_DECAY = 1e-6, OU-sigma=0.05\n",
    "\n",
    "Episode 100\tAverage Score: 1.16\n",
    "Episode 200\tAverage Score: 2.28\n",
    "Episode 300\tAverage Score: 4.09\n",
    "Episode 400\tAverage Score: 3.01\n",
    "Episode 421\tAverage Score: 2.99\n",
    "\n",
    "6. added \n",
    "LEARN_EVERY; LEARN_NUM, timestep (t) in the ddpg method's loop\n",
    " or just increase the max_steps to 1e6 and without the timestep aggregation ?\n",
    "\n",
    "Episode 100\tAverage Score: 2.95\n",
    "Episode 200\tAverage Score: 7.04\n",
    "Episode 300\tAverage Score: 9.01\n",
    "Episode 400\tAverage Score: 8.34\n",
    "Episode 500\tAverage Score: 9.07\n",
    "\n",
    "7. same as 6 but epsilon_decay = 1e-5\n",
    "n_episodes=2000, max_t=1000 where max_t default is 1000\n",
    "\n",
    "Episode 100\tAverage Score: 2.95\n",
    "Episode 200\tAverage Score: 7.04\n",
    "Episode 300\tAverage Score: 9.01\n",
    "Episode 400\tAverage Score: 8.34\n",
    "Episode 500\tAverage Score: 9.07\n",
    "Episode 600\tAverage Score: 9.411\n",
    "Episode 700\tAverage Score: 7.06\n",
    "Episode 800\tAverage Score: 5.11\n",
    "Episode 802\tAverage Score: 5.04\n",
    "\n",
    "8. ddpg() method overwritten (partially) \n",
    "agent hyperparameters stay the same \n",
    "\n",
    "not good\n",
    "\n",
    "9. same as 7 but max_t=10000\n",
    "\n",
    "10. added gradient clipping \n",
    "        torch.nn.utils.clip_grad_norm_(self.critic_local.parameters(), 1)\n",
    "epsilon_decay=1e-6 ; OU-sigma 0.2 max_t 10000\n",
    "\n",
    "Episode 100\tAverage Score: 1.44\n",
    "Episode 200\tAverage Score: 2.25\n",
    "Episode 300\tAverage Score: 1.52\n",
    "Episode 400\tAverage Score: 1.95\n",
    "Episode 428\tAverage Score: 1.80\n",
    "\n",
    "\n",
    "11. changed back the learn_num learn_every\n",
    "LR_ACTOR = 1e-3 #1e-4\n",
    "gradient_clipping is ON\n",
    "max_t=1000\n",
    "OU_sigma = 0.2\n",
    "Episode 100\tAverage Score: 2.47\n",
    "Episode 200\tAverage Score: 3.79\n",
    "Episode 300\tAverage Score: 4.14\n",
    "Episode 323\tAverage Score: 4.27"
   ]
  },
  {
   "cell_type": "code",
   "execution_count": 9,
   "metadata": {},
   "outputs": [],
   "source": [
    "#!mv checkpoint_critic.pth e6-checkpoint_critic.pth;\n",
    "#!mv checkpoint_actor.pth e6-checkpoint_actor.pth"
   ]
  },
  {
   "cell_type": "code",
   "execution_count": 10,
   "metadata": {},
   "outputs": [],
   "source": [
    "#ls"
   ]
  },
  {
   "cell_type": "code",
   "execution_count": null,
   "metadata": {},
   "outputs": [],
   "source": []
  }
 ],
 "metadata": {
  "kernelspec": {
   "display_name": "drlnd",
   "language": "python",
   "name": "drlnd"
  },
  "language_info": {
   "codemirror_mode": {
    "name": "ipython",
    "version": 3
   },
   "file_extension": ".py",
   "mimetype": "text/x-python",
   "name": "python",
   "nbconvert_exporter": "python",
   "pygments_lexer": "ipython3",
   "version": "3.5.2"
  }
 },
 "nbformat": 4,
 "nbformat_minor": 2
}
